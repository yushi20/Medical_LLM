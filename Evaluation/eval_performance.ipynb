{
 "cells": [
  {
   "cell_type": "code",
   "execution_count": 3,
   "metadata": {},
   "outputs": [],
   "source": [
    "import json\n",
    "import pandas as pd\n",
    "import numpy as np\n",
    "import matplotlib.pyplot as plt\n",
    "import openai"
   ]
  },
  {
   "cell_type": "code",
   "execution_count": 42,
   "metadata": {},
   "outputs": [],
   "source": [
    "# get outputs\n",
    "fp = 'validation_responses.jsonl'\n",
    "response = []\n",
    "\n",
    "with open(fp, 'r') as file:\n",
    "    for line in file:\n",
    "        line = json.loads(line)\n",
    "        response.append({'id': line.get('question_id', None), 'output': line.get('text', None)})\n"
   ]
  },
  {
   "cell_type": "code",
   "execution_count": 43,
   "metadata": {},
   "outputs": [],
   "source": [
    "# get corresponding image_id from question file\n",
    "fp = 'question_prompt.jsonl'\n",
    "input = []\n",
    "\n",
    "with open(fp, 'r') as file:\n",
    "    for line in file:\n",
    "        line = json.loads(line)\n",
    "        input.append({'id': line.get('question_id', None), 'image_id': line.get('image', None)})"
   ]
  },
  {
   "cell_type": "code",
   "execution_count": 44,
   "metadata": {},
   "outputs": [
    {
     "data": {
      "text/html": [
       "<div>\n",
       "<style scoped>\n",
       "    .dataframe tbody tr th:only-of-type {\n",
       "        vertical-align: middle;\n",
       "    }\n",
       "\n",
       "    .dataframe tbody tr th {\n",
       "        vertical-align: top;\n",
       "    }\n",
       "\n",
       "    .dataframe thead th {\n",
       "        text-align: right;\n",
       "    }\n",
       "</style>\n",
       "<table border=\"1\" class=\"dataframe\">\n",
       "  <thead>\n",
       "    <tr style=\"text-align: right;\">\n",
       "      <th></th>\n",
       "      <th>image_id</th>\n",
       "      <th>output</th>\n",
       "    </tr>\n",
       "  </thead>\n",
       "  <tbody>\n",
       "    <tr>\n",
       "      <th>0</th>\n",
       "      <td>Jemefon_51549626</td>\n",
       "      <td></td>\n",
       "    </tr>\n",
       "    <tr>\n",
       "      <th>1</th>\n",
       "      <td>Rokiemed_51388893</td>\n",
       "      <td>no definite acute abnormality.</td>\n",
       "    </tr>\n",
       "    <tr>\n",
       "      <th>2</th>\n",
       "      <td>Hayuxrit_52803982</td>\n",
       "      <td></td>\n",
       "    </tr>\n",
       "    <tr>\n",
       "      <th>3</th>\n",
       "      <td>Phathuro_51403270</td>\n",
       "      <td>no definite acute abnormality.</td>\n",
       "    </tr>\n",
       "    <tr>\n",
       "      <th>4</th>\n",
       "      <td>Okorued_52838506</td>\n",
       "      <td>no definite acute abnormality.</td>\n",
       "    </tr>\n",
       "    <tr>\n",
       "      <th>...</th>\n",
       "      <td>...</td>\n",
       "      <td>...</td>\n",
       "    </tr>\n",
       "    <tr>\n",
       "      <th>2238</th>\n",
       "      <td>Trosoode_52844342</td>\n",
       "      <td></td>\n",
       "    </tr>\n",
       "    <tr>\n",
       "      <th>2239</th>\n",
       "      <td>Opirnag_52893284</td>\n",
       "      <td>no definite acute abnormality.</td>\n",
       "    </tr>\n",
       "    <tr>\n",
       "      <th>2240</th>\n",
       "      <td>Shokuja_50802617</td>\n",
       "      <td></td>\n",
       "    </tr>\n",
       "    <tr>\n",
       "      <th>2241</th>\n",
       "      <td>Perpopul_50364068</td>\n",
       "      <td>no definite acute abnormality.</td>\n",
       "    </tr>\n",
       "    <tr>\n",
       "      <th>2242</th>\n",
       "      <td>Quescuedunk_51812828</td>\n",
       "      <td>findings of pulmonary hypertension.</td>\n",
       "    </tr>\n",
       "  </tbody>\n",
       "</table>\n",
       "<p>2243 rows × 2 columns</p>\n",
       "</div>"
      ],
      "text/plain": [
       "                  image_id                               output\n",
       "0         Jemefon_51549626                                     \n",
       "1        Rokiemed_51388893       no definite acute abnormality.\n",
       "2        Hayuxrit_52803982                                     \n",
       "3        Phathuro_51403270       no definite acute abnormality.\n",
       "4         Okorued_52838506       no definite acute abnormality.\n",
       "...                    ...                                  ...\n",
       "2238     Trosoode_52844342                                     \n",
       "2239      Opirnag_52893284       no definite acute abnormality.\n",
       "2240      Shokuja_50802617                                     \n",
       "2241     Perpopul_50364068       no definite acute abnormality.\n",
       "2242  Quescuedunk_51812828  findings of pulmonary hypertension.\n",
       "\n",
       "[2243 rows x 2 columns]"
      ]
     },
     "execution_count": 44,
     "metadata": {},
     "output_type": "execute_result"
    }
   ],
   "source": [
    "# merge so that we have the corresponding image id for every output\n",
    "response_df = pd.DataFrame(response)\n",
    "input_df = pd.DataFrame(input)\n",
    "df = pd.merge(input_df, response_df, on='id')\n",
    "df.drop(columns=['id'], inplace=True)\n",
    "df['image_id'] = df['image_id'].str.replace('.jpg', '')\n",
    "df"
   ]
  },
  {
   "cell_type": "code",
   "execution_count": 45,
   "metadata": {},
   "outputs": [],
   "source": [
    "# parse validation data json to get correct labels\n",
    "fp = 'val_10.json'\n",
    "labels = []\n",
    "\n",
    "with open(fp, 'r') as file:\n",
    "    data = json.load(file)\n",
    "    for entry in data:\n",
    "        for convo in entry['conversations']:\n",
    "            if convo['from'] == 'gpt':\n",
    "                value = convo['value'] #.replace('<image>\\n', '')\n",
    "        labels.append({'id': entry['id'], 'label': value})\n"
   ]
  },
  {
   "cell_type": "code",
   "execution_count": 46,
   "metadata": {},
   "outputs": [
    {
     "data": {
      "text/html": [
       "<div>\n",
       "<style scoped>\n",
       "    .dataframe tbody tr th:only-of-type {\n",
       "        vertical-align: middle;\n",
       "    }\n",
       "\n",
       "    .dataframe tbody tr th {\n",
       "        vertical-align: top;\n",
       "    }\n",
       "\n",
       "    .dataframe thead th {\n",
       "        text-align: right;\n",
       "    }\n",
       "</style>\n",
       "<table border=\"1\" class=\"dataframe\">\n",
       "  <thead>\n",
       "    <tr style=\"text-align: right;\">\n",
       "      <th></th>\n",
       "      <th>label</th>\n",
       "      <th>image_id</th>\n",
       "      <th>output</th>\n",
       "    </tr>\n",
       "  </thead>\n",
       "  <tbody>\n",
       "    <tr>\n",
       "      <th>0</th>\n",
       "      <td>&lt;image&gt;\\niption:    x-ray chest frontal and la...</td>\n",
       "      <td>Jemefon_51549626</td>\n",
       "      <td></td>\n",
       "    </tr>\n",
       "    <tr>\n",
       "      <th>1</th>\n",
       "      <td>&lt;image&gt;\\nno acute findings.</td>\n",
       "      <td>Rokiemed_51388893</td>\n",
       "      <td>no definite acute abnormality.</td>\n",
       "    </tr>\n",
       "    <tr>\n",
       "      <th>2</th>\n",
       "      <td>&lt;image&gt;\\ncardiomegaly with moderate interstiti...</td>\n",
       "      <td>Hayuxrit_52803982</td>\n",
       "      <td></td>\n",
       "    </tr>\n",
       "    <tr>\n",
       "      <th>3</th>\n",
       "      <td>&lt;image&gt;\\nmild left basilar opacity in setting ...</td>\n",
       "      <td>Phathuro_51403270</td>\n",
       "      <td>no definite acute abnormality.</td>\n",
       "    </tr>\n",
       "    <tr>\n",
       "      <th>4</th>\n",
       "      <td>&lt;image&gt;\\nno acute cardiopulmonary or osseous a...</td>\n",
       "      <td>Okorued_52838506</td>\n",
       "      <td>no definite acute abnormality.</td>\n",
       "    </tr>\n",
       "    <tr>\n",
       "      <th>...</th>\n",
       "      <td>...</td>\n",
       "      <td>...</td>\n",
       "      <td>...</td>\n",
       "    </tr>\n",
       "    <tr>\n",
       "      <th>2238</th>\n",
       "      <td>&lt;image&gt;\\nenlarged cardiac silhouette with inte...</td>\n",
       "      <td>Trosoode_52844342</td>\n",
       "      <td></td>\n",
       "    </tr>\n",
       "    <tr>\n",
       "      <th>2239</th>\n",
       "      <td>&lt;image&gt;\\nno acute cardiopulmonary abnormality....</td>\n",
       "      <td>Opirnag_52893284</td>\n",
       "      <td>no definite acute abnormality.</td>\n",
       "    </tr>\n",
       "    <tr>\n",
       "      <th>2240</th>\n",
       "      <td>&lt;image&gt;\\nno acute cardiopulmonary findings and...</td>\n",
       "      <td>Shokuja_50802617</td>\n",
       "      <td></td>\n",
       "    </tr>\n",
       "    <tr>\n",
       "      <th>2241</th>\n",
       "      <td>&lt;image&gt;\\nno radiographic evidence of acute car...</td>\n",
       "      <td>Perpopul_50364068</td>\n",
       "      <td>no definite acute abnormality.</td>\n",
       "    </tr>\n",
       "    <tr>\n",
       "      <th>2242</th>\n",
       "      <td>&lt;image&gt;\\nleft mid lung confluent opacity which...</td>\n",
       "      <td>Quescuedunk_51812828</td>\n",
       "      <td>findings of pulmonary hypertension.</td>\n",
       "    </tr>\n",
       "  </tbody>\n",
       "</table>\n",
       "<p>2243 rows × 3 columns</p>\n",
       "</div>"
      ],
      "text/plain": [
       "                                                  label              image_id  \\\n",
       "0     <image>\\niption:    x-ray chest frontal and la...      Jemefon_51549626   \n",
       "1                           <image>\\nno acute findings.     Rokiemed_51388893   \n",
       "2     <image>\\ncardiomegaly with moderate interstiti...     Hayuxrit_52803982   \n",
       "3     <image>\\nmild left basilar opacity in setting ...     Phathuro_51403270   \n",
       "4     <image>\\nno acute cardiopulmonary or osseous a...      Okorued_52838506   \n",
       "...                                                 ...                   ...   \n",
       "2238  <image>\\nenlarged cardiac silhouette with inte...     Trosoode_52844342   \n",
       "2239  <image>\\nno acute cardiopulmonary abnormality....      Opirnag_52893284   \n",
       "2240  <image>\\nno acute cardiopulmonary findings and...      Shokuja_50802617   \n",
       "2241  <image>\\nno radiographic evidence of acute car...     Perpopul_50364068   \n",
       "2242  <image>\\nleft mid lung confluent opacity which...  Quescuedunk_51812828   \n",
       "\n",
       "                                   output  \n",
       "0                                          \n",
       "1          no definite acute abnormality.  \n",
       "2                                          \n",
       "3          no definite acute abnormality.  \n",
       "4          no definite acute abnormality.  \n",
       "...                                   ...  \n",
       "2238                                       \n",
       "2239       no definite acute abnormality.  \n",
       "2240                                       \n",
       "2241       no definite acute abnormality.  \n",
       "2242  findings of pulmonary hypertension.  \n",
       "\n",
       "[2243 rows x 3 columns]"
      ]
     },
     "execution_count": 46,
     "metadata": {},
     "output_type": "execute_result"
    }
   ],
   "source": [
    "# merge all \n",
    "labels_df = pd.DataFrame(labels)\n",
    "df = pd.merge(labels_df, df, left_on='id', right_on='image_id')\n",
    "df.drop(columns=['id'], inplace=True)\n",
    "df"
   ]
  },
  {
   "cell_type": "code",
   "execution_count": 47,
   "metadata": {},
   "outputs": [
    {
     "data": {
      "text/html": [
       "<div>\n",
       "<style scoped>\n",
       "    .dataframe tbody tr th:only-of-type {\n",
       "        vertical-align: middle;\n",
       "    }\n",
       "\n",
       "    .dataframe tbody tr th {\n",
       "        vertical-align: top;\n",
       "    }\n",
       "\n",
       "    .dataframe thead th {\n",
       "        text-align: right;\n",
       "    }\n",
       "</style>\n",
       "<table border=\"1\" class=\"dataframe\">\n",
       "  <thead>\n",
       "    <tr style=\"text-align: right;\">\n",
       "      <th></th>\n",
       "      <th>label</th>\n",
       "      <th>image_id</th>\n",
       "      <th>output</th>\n",
       "    </tr>\n",
       "  </thead>\n",
       "  <tbody>\n",
       "    <tr>\n",
       "      <th>0</th>\n",
       "      <td>iption:    x-ray chest frontal and lateral  cl...</td>\n",
       "      <td>Jemefon_51549626</td>\n",
       "      <td></td>\n",
       "    </tr>\n",
       "    <tr>\n",
       "      <th>1</th>\n",
       "      <td>no acute findings.</td>\n",
       "      <td>Rokiemed_51388893</td>\n",
       "      <td>no definite acute abnormality.</td>\n",
       "    </tr>\n",
       "    <tr>\n",
       "      <th>2</th>\n",
       "      <td>cardiomegaly with moderate interstitial edema.</td>\n",
       "      <td>Hayuxrit_52803982</td>\n",
       "      <td></td>\n",
       "    </tr>\n",
       "    <tr>\n",
       "      <th>3</th>\n",
       "      <td>mild left basilar opacity in setting of decrea...</td>\n",
       "      <td>Phathuro_51403270</td>\n",
       "      <td>no definite acute abnormality.</td>\n",
       "    </tr>\n",
       "    <tr>\n",
       "      <th>4</th>\n",
       "      <td>no acute cardiopulmonary or osseous abnormality.</td>\n",
       "      <td>Okorued_52838506</td>\n",
       "      <td>no definite acute abnormality.</td>\n",
       "    </tr>\n",
       "    <tr>\n",
       "      <th>...</th>\n",
       "      <td>...</td>\n",
       "      <td>...</td>\n",
       "      <td>...</td>\n",
       "    </tr>\n",
       "    <tr>\n",
       "      <th>2238</th>\n",
       "      <td>enlarged cardiac silhouette with interstitial ...</td>\n",
       "      <td>Trosoode_52844342</td>\n",
       "      <td></td>\n",
       "    </tr>\n",
       "    <tr>\n",
       "      <th>2239</th>\n",
       "      <td>no acute cardiopulmonary abnormality. previous...</td>\n",
       "      <td>Opirnag_52893284</td>\n",
       "      <td>no definite acute abnormality.</td>\n",
       "    </tr>\n",
       "    <tr>\n",
       "      <th>2240</th>\n",
       "      <td>no acute cardiopulmonary findings and no convi...</td>\n",
       "      <td>Shokuja_50802617</td>\n",
       "      <td></td>\n",
       "    </tr>\n",
       "    <tr>\n",
       "      <th>2241</th>\n",
       "      <td>no radiographic evidence of acute cardiopulmon...</td>\n",
       "      <td>Perpopul_50364068</td>\n",
       "      <td>no definite acute abnormality.</td>\n",
       "    </tr>\n",
       "    <tr>\n",
       "      <th>2242</th>\n",
       "      <td>left mid lung confluent opacity which could re...</td>\n",
       "      <td>Quescuedunk_51812828</td>\n",
       "      <td>findings of pulmonary hypertension.</td>\n",
       "    </tr>\n",
       "  </tbody>\n",
       "</table>\n",
       "<p>2243 rows × 3 columns</p>\n",
       "</div>"
      ],
      "text/plain": [
       "                                                  label              image_id  \\\n",
       "0     iption:    x-ray chest frontal and lateral  cl...      Jemefon_51549626   \n",
       "1                                    no acute findings.     Rokiemed_51388893   \n",
       "2        cardiomegaly with moderate interstitial edema.     Hayuxrit_52803982   \n",
       "3     mild left basilar opacity in setting of decrea...     Phathuro_51403270   \n",
       "4      no acute cardiopulmonary or osseous abnormality.      Okorued_52838506   \n",
       "...                                                 ...                   ...   \n",
       "2238  enlarged cardiac silhouette with interstitial ...     Trosoode_52844342   \n",
       "2239  no acute cardiopulmonary abnormality. previous...      Opirnag_52893284   \n",
       "2240  no acute cardiopulmonary findings and no convi...      Shokuja_50802617   \n",
       "2241  no radiographic evidence of acute cardiopulmon...     Perpopul_50364068   \n",
       "2242  left mid lung confluent opacity which could re...  Quescuedunk_51812828   \n",
       "\n",
       "                                   output  \n",
       "0                                          \n",
       "1          no definite acute abnormality.  \n",
       "2                                          \n",
       "3          no definite acute abnormality.  \n",
       "4          no definite acute abnormality.  \n",
       "...                                   ...  \n",
       "2238                                       \n",
       "2239       no definite acute abnormality.  \n",
       "2240                                       \n",
       "2241       no definite acute abnormality.  \n",
       "2242  findings of pulmonary hypertension.  \n",
       "\n",
       "[2243 rows x 3 columns]"
      ]
     },
     "execution_count": 47,
     "metadata": {},
     "output_type": "execute_result"
    }
   ],
   "source": [
    "# clean up label class\n",
    "df['label'] = df['label'].str[8:]\n",
    "df"
   ]
  },
  {
   "cell_type": "code",
   "execution_count": 48,
   "metadata": {},
   "outputs": [
    {
     "name": "stdout",
     "output_type": "stream",
     "text": [
      "frontal view is essentially nondiagnostic due to technique. the cardiac silhouette appears mildly enlarged. the lateral view shows no gross consolidation or overt pulmonary edema. however, consider repeat study for further evaluation.\n"
     ]
    }
   ],
   "source": [
    "# df.to_csv('label_output.csv', index=False)\n",
    "print(df.loc[10, 'label'])"
   ]
  },
  {
   "cell_type": "markdown",
   "metadata": {},
   "source": [
    "### Benchmark"
   ]
  },
  {
   "cell_type": "code",
   "execution_count": 49,
   "metadata": {},
   "outputs": [
    {
     "name": "stdout",
     "output_type": "stream",
     "text": [
      "704\n",
      "18\n",
      "301\n",
      "309\n",
      "218\n",
      "1\n"
     ]
    }
   ],
   "source": [
    "# performance looks poor for pneumothorax especially, may need to tune the prompt so that it mentions all disease entities even if they're not found\n",
    "print(df['label'].str.contains('edema').sum())\n",
    "print(df['output'].str.contains('edema').sum())\n",
    "print(df['label'].str.contains('pneumonia').sum())\n",
    "print(df['output'].str.contains('pneumonia').sum())\n",
    "print(df['label'].str.contains('pneumothorax').sum())\n",
    "print(df['output'].str.contains('pneumothorax').sum())"
   ]
  },
  {
   "cell_type": "code",
   "execution_count": 101,
   "metadata": {},
   "outputs": [
    {
     "data": {
      "text/plain": [
       "<matplotlib.legend.Legend at 0x13e3c7070>"
      ]
     },
     "execution_count": 101,
     "metadata": {},
     "output_type": "execute_result"
    },
    {
     "data": {
      "image/png": "[encoded data removed]",
      "text/plain": [
       "<Figure size 640x480 with 1 Axes>"
      ]
     },
     "metadata": {},
     "output_type": "display_data"
    }
   ],
   "source": [
    "output_len = df['output'].str.len().to_numpy()\n",
    "label_len = df['label'].str.len().to_numpy()\n",
    "\n",
    "plt.title('Ground Truth Length vs. Output Length')\n",
    "plt.plot(label_len, label='Ground Truth')\n",
    "plt.plot(output_len, label='Output')\n",
    "plt.legend()"
   ]
  },
  {
   "cell_type": "code",
   "execution_count": null,
   "metadata": {},
   "outputs": [],
   "source": [
    "# for entry in data:\n",
    "#     radiologist_reading = entry['radiologist_reading']\n",
    "#     model_output = entry['model_output']\n",
    "    \n",
    "#     # Compute semantic similarity\n",
    "#     similarity_score = compute_similarity(radiologist_reading, model_output)\n",
    "    \n",
    "#     # QA or summarization task\n",
    "#     qa_score = perform_qa_task(radiologist_reading, model_output)\n",
    "    \n",
    "#     # Store or process the comparison scores\n",
    "#     results.append({\n",
    "#         \"entry_id\": entry['id'],\n",
    "#         \"similarity_score\": similarity_score,\n",
    "#         \"qa_score\": qa_score,\n",
    "#         # Any other metrics or comparison results\n",
    "#     })\n",
    "\n",
    "# Process the results (e.g., average scores, statistical analysis)\n",
    "\n",
    "# def compute_similarity(text1, text2):\n",
    "#     # Use the LLM to compute embeddings and calculate similarity\n",
    "#     pass\n",
    "\n",
    "# def perform_qa_task(question, context):\n",
    "#     # Use the LLM for QA tasks\n",
    "#     pass\n",
    "\n",
    "# # Save or analyze the results\n",
    "# save_results(\"comparison_results.json\", results)"
   ]
  },
  {
   "cell_type": "markdown",
   "metadata": {},
   "source": [
    "#### Disease Classification\n",
    "Use chatgpt to parse both ground truth and output into individual disease classes (no, mild, severe) and then compare.\n",
    "\n",
    "\n",
    "Disease classes: pneumonia, pulmonary edema, pneumothorax"
   ]
  },
  {
   "cell_type": "code",
   "execution_count": 116,
   "metadata": {},
   "outputs": [],
   "source": [
    "# for getting response from chatgpt\n",
    "# def get_completion(prompt, client_instance, model='gpt-3.5-turbo'):\n",
    "#     messages = [{'role': 'user', 'content': prompt}]\n",
    "#     response = client_instance.chat.completions.create(\n",
    "#     model=model,\n",
    "#     messages=messages,\n",
    "#     max_tokens=20,\n",
    "#     temperature=0.2,\n",
    "#     )\n",
    "#     return response.choices[0].message.content\n",
    "\n",
    "# classify all disease classes for each report\n",
    "def classify_disease(report):\n",
    "    diseases = {'pneumonia': '', 'pulmonary edema': '', 'pneumothorax': ''}\n",
    "    for disease in diseases.keys():\n",
    "        prompt = f\"Given this x-ray report: '{report}, determine the severity of {disease} as 'no', 'mild', 'severe'.\"\n",
    "        \n",
    "        diseases[disease] = get_completion(prompt, client)\n",
    "\n",
    "    return diseases\n"
   ]
  },
  {
   "cell_type": "code",
   "execution_count": 135,
   "metadata": {},
   "outputs": [],
   "source": [
    "# from openai import OpenAI\n",
    "# openai.api_key = ''\n",
    "# client = OpenAI()\n",
    "\n",
    "# for i in df.index:\n",
    "#     label_classes = classify_disease(df.loc[i, 'label'])\n",
    "#     output_classes = classify_disease(df.loc[i, 'output'])\n",
    "\n",
    "# testing\n",
    "# from openai import OpenAI\n",
    "# client = OpenAI(api_key='')\n",
    "\n",
    "# completion = client.chat.completions.create(\n",
    "#   model=\"gpt-3.5-turbo\",\n",
    "#   messages=[\n",
    "#     {\"role\": \"system\", \"content\": \"You are a poetic assistant, skilled in explaining complex programming concepts with creative flair.\"},\n",
    "#     {\"role\": \"user\", \"content\": \"Compose a poem that explains the concept of recursion in programming.\"}\n",
    "#   ]\n",
    "# )\n",
    "\n",
    "# print(completion.choices[0].message)"
   ]
  },
  {
   "cell_type": "code",
   "execution_count": null,
   "metadata": {},
   "outputs": [],
   "source": []
  },
  {
   "cell_type": "code",
   "execution_count": null,
   "metadata": {},
   "outputs": [],
   "source": []
  },
  {
   "cell_type": "markdown",
   "metadata": {},
   "source": [
    "#### Edema"
   ]
  },
  {
   "cell_type": "code",
   "execution_count": 21,
   "metadata": {},
   "outputs": [
    {
     "data": {
      "text/html": [
       "<div>\n",
       "<style scoped>\n",
       "    .dataframe tbody tr th:only-of-type {\n",
       "        vertical-align: middle;\n",
       "    }\n",
       "\n",
       "    .dataframe tbody tr th {\n",
       "        vertical-align: top;\n",
       "    }\n",
       "\n",
       "    .dataframe thead th {\n",
       "        text-align: right;\n",
       "    }\n",
       "</style>\n",
       "<table border=\"1\" class=\"dataframe\">\n",
       "  <thead>\n",
       "    <tr style=\"text-align: right;\">\n",
       "      <th></th>\n",
       "      <th>label</th>\n",
       "      <th>image_id</th>\n",
       "      <th>output</th>\n",
       "    </tr>\n",
       "  </thead>\n",
       "  <tbody>\n",
       "    <tr>\n",
       "      <th>0</th>\n",
       "      <td>iption:    x-ray chest frontal and lateral  cl...</td>\n",
       "      <td>Jemefon_51549626</td>\n",
       "      <td>NaN</td>\n",
       "    </tr>\n",
       "    <tr>\n",
       "      <th>1</th>\n",
       "      <td>no acute findings.</td>\n",
       "      <td>Rokiemed_51388893</td>\n",
       "      <td>no definite acute abnormality.</td>\n",
       "    </tr>\n",
       "    <tr>\n",
       "      <th>2</th>\n",
       "      <td>cardiomegaly with moderate interstitial edema.</td>\n",
       "      <td>Hayuxrit_52803982</td>\n",
       "      <td>NaN</td>\n",
       "    </tr>\n",
       "    <tr>\n",
       "      <th>3</th>\n",
       "      <td>mild left basilar opacity in setting of decrea...</td>\n",
       "      <td>Phathuro_51403270</td>\n",
       "      <td>no definite acute abnormality.</td>\n",
       "    </tr>\n",
       "    <tr>\n",
       "      <th>4</th>\n",
       "      <td>no acute cardiopulmonary or osseous abnormality.</td>\n",
       "      <td>Okorued_52838506</td>\n",
       "      <td>no definite acute abnormality.</td>\n",
       "    </tr>\n",
       "    <tr>\n",
       "      <th>...</th>\n",
       "      <td>...</td>\n",
       "      <td>...</td>\n",
       "      <td>...</td>\n",
       "    </tr>\n",
       "    <tr>\n",
       "      <th>2238</th>\n",
       "      <td>enlarged cardiac silhouette with interstitial ...</td>\n",
       "      <td>Trosoode_52844342</td>\n",
       "      <td>NaN</td>\n",
       "    </tr>\n",
       "    <tr>\n",
       "      <th>2239</th>\n",
       "      <td>no acute cardiopulmonary abnormality. previous...</td>\n",
       "      <td>Opirnag_52893284</td>\n",
       "      <td>no definite acute abnormality.</td>\n",
       "    </tr>\n",
       "    <tr>\n",
       "      <th>2240</th>\n",
       "      <td>no acute cardiopulmonary findings and no convi...</td>\n",
       "      <td>Shokuja_50802617</td>\n",
       "      <td>NaN</td>\n",
       "    </tr>\n",
       "    <tr>\n",
       "      <th>2241</th>\n",
       "      <td>no radiographic evidence of acute cardiopulmon...</td>\n",
       "      <td>Perpopul_50364068</td>\n",
       "      <td>no definite acute abnormality.</td>\n",
       "    </tr>\n",
       "    <tr>\n",
       "      <th>2242</th>\n",
       "      <td>left mid lung confluent opacity which could re...</td>\n",
       "      <td>Quescuedunk_51812828</td>\n",
       "      <td>findings of pulmonary hypertension.</td>\n",
       "    </tr>\n",
       "  </tbody>\n",
       "</table>\n",
       "<p>2243 rows × 3 columns</p>\n",
       "</div>"
      ],
      "text/plain": [
       "                                                  label              image_id  \\\n",
       "0     iption:    x-ray chest frontal and lateral  cl...      Jemefon_51549626   \n",
       "1                                    no acute findings.     Rokiemed_51388893   \n",
       "2        cardiomegaly with moderate interstitial edema.     Hayuxrit_52803982   \n",
       "3     mild left basilar opacity in setting of decrea...     Phathuro_51403270   \n",
       "4      no acute cardiopulmonary or osseous abnormality.      Okorued_52838506   \n",
       "...                                                 ...                   ...   \n",
       "2238  enlarged cardiac silhouette with interstitial ...     Trosoode_52844342   \n",
       "2239  no acute cardiopulmonary abnormality. previous...      Opirnag_52893284   \n",
       "2240  no acute cardiopulmonary findings and no convi...      Shokuja_50802617   \n",
       "2241  no radiographic evidence of acute cardiopulmon...     Perpopul_50364068   \n",
       "2242  left mid lung confluent opacity which could re...  Quescuedunk_51812828   \n",
       "\n",
       "                                   output  \n",
       "0                                     NaN  \n",
       "1          no definite acute abnormality.  \n",
       "2                                     NaN  \n",
       "3          no definite acute abnormality.  \n",
       "4          no definite acute abnormality.  \n",
       "...                                   ...  \n",
       "2238                                  NaN  \n",
       "2239       no definite acute abnormality.  \n",
       "2240                                  NaN  \n",
       "2241       no definite acute abnormality.  \n",
       "2242  findings of pulmonary hypertension.  \n",
       "\n",
       "[2243 rows x 3 columns]"
      ]
     },
     "execution_count": 21,
     "metadata": {},
     "output_type": "execute_result"
    }
   ],
   "source": [
    "pd.read_csv('label_output_copy.csv')"
   ]
  },
  {
   "cell_type": "code",
   "execution_count": 18,
   "metadata": {},
   "outputs": [
    {
     "data": {
      "text/html": [
       "<div>\n",
       "<style scoped>\n",
       "    .dataframe tbody tr th:only-of-type {\n",
       "        vertical-align: middle;\n",
       "    }\n",
       "\n",
       "    .dataframe tbody tr th {\n",
       "        vertical-align: top;\n",
       "    }\n",
       "\n",
       "    .dataframe thead th {\n",
       "        text-align: right;\n",
       "    }\n",
       "</style>\n",
       "<table border=\"1\" class=\"dataframe\">\n",
       "  <thead>\n",
       "    <tr style=\"text-align: right;\">\n",
       "      <th></th>\n",
       "      <th>label</th>\n",
       "      <th>image_id</th>\n",
       "      <th>output</th>\n",
       "      <th>label_edema</th>\n",
       "      <th>output_edema</th>\n",
       "    </tr>\n",
       "  </thead>\n",
       "  <tbody>\n",
       "    <tr>\n",
       "      <th>0</th>\n",
       "      <td>iption:    x-ray chest frontal and lateral  cl...</td>\n",
       "      <td>Jemefon_51549626</td>\n",
       "      <td>NaN</td>\n",
       "      <td>No Edema</td>\n",
       "      <td>Not Applicable</td>\n",
       "    </tr>\n",
       "    <tr>\n",
       "      <th>1</th>\n",
       "      <td>no acute findings.</td>\n",
       "      <td>Rokiemed_51388893</td>\n",
       "      <td>no definite acute abnormality.</td>\n",
       "      <td>No Edema</td>\n",
       "      <td>No Edema</td>\n",
       "    </tr>\n",
       "    <tr>\n",
       "      <th>2</th>\n",
       "      <td>cardiomegaly with moderate interstitial edema.</td>\n",
       "      <td>Hayuxrit_52803982</td>\n",
       "      <td>NaN</td>\n",
       "      <td>Unspecified Edema</td>\n",
       "      <td>Not Applicable</td>\n",
       "    </tr>\n",
       "    <tr>\n",
       "      <th>3</th>\n",
       "      <td>mild left basilar opacity in setting of decrea...</td>\n",
       "      <td>Phathuro_51403270</td>\n",
       "      <td>no definite acute abnormality.</td>\n",
       "      <td>No Edema</td>\n",
       "      <td>No Edema</td>\n",
       "    </tr>\n",
       "    <tr>\n",
       "      <th>4</th>\n",
       "      <td>no acute cardiopulmonary or osseous abnormality.</td>\n",
       "      <td>Okorued_52838506</td>\n",
       "      <td>no definite acute abnormality.</td>\n",
       "      <td>No Edema</td>\n",
       "      <td>No Edema</td>\n",
       "    </tr>\n",
       "    <tr>\n",
       "      <th>...</th>\n",
       "      <td>...</td>\n",
       "      <td>...</td>\n",
       "      <td>...</td>\n",
       "      <td>...</td>\n",
       "      <td>...</td>\n",
       "    </tr>\n",
       "    <tr>\n",
       "      <th>2238</th>\n",
       "      <td>enlarged cardiac silhouette with interstitial ...</td>\n",
       "      <td>Trosoode_52844342</td>\n",
       "      <td>NaN</td>\n",
       "      <td>Unspecified Edema</td>\n",
       "      <td>Not Applicable</td>\n",
       "    </tr>\n",
       "    <tr>\n",
       "      <th>2239</th>\n",
       "      <td>no acute cardiopulmonary abnormality. previous...</td>\n",
       "      <td>Opirnag_52893284</td>\n",
       "      <td>no definite acute abnormality.</td>\n",
       "      <td>No Edema</td>\n",
       "      <td>No Edema</td>\n",
       "    </tr>\n",
       "    <tr>\n",
       "      <th>2240</th>\n",
       "      <td>no acute cardiopulmonary findings and no convi...</td>\n",
       "      <td>Shokuja_50802617</td>\n",
       "      <td>NaN</td>\n",
       "      <td>Unspecified Edema</td>\n",
       "      <td>Not Applicable</td>\n",
       "    </tr>\n",
       "    <tr>\n",
       "      <th>2241</th>\n",
       "      <td>no radiographic evidence of acute cardiopulmon...</td>\n",
       "      <td>Perpopul_50364068</td>\n",
       "      <td>no definite acute abnormality.</td>\n",
       "      <td>No Edema</td>\n",
       "      <td>No Edema</td>\n",
       "    </tr>\n",
       "    <tr>\n",
       "      <th>2242</th>\n",
       "      <td>left mid lung confluent opacity which could re...</td>\n",
       "      <td>Quescuedunk_51812828</td>\n",
       "      <td>findings of pulmonary hypertension.</td>\n",
       "      <td>Mild Edema</td>\n",
       "      <td>No Edema</td>\n",
       "    </tr>\n",
       "  </tbody>\n",
       "</table>\n",
       "<p>2243 rows × 5 columns</p>\n",
       "</div>"
      ],
      "text/plain": [
       "                                                  label              image_id  \\\n",
       "0     iption:    x-ray chest frontal and lateral  cl...      Jemefon_51549626   \n",
       "1                                    no acute findings.     Rokiemed_51388893   \n",
       "2        cardiomegaly with moderate interstitial edema.     Hayuxrit_52803982   \n",
       "3     mild left basilar opacity in setting of decrea...     Phathuro_51403270   \n",
       "4      no acute cardiopulmonary or osseous abnormality.      Okorued_52838506   \n",
       "...                                                 ...                   ...   \n",
       "2238  enlarged cardiac silhouette with interstitial ...     Trosoode_52844342   \n",
       "2239  no acute cardiopulmonary abnormality. previous...      Opirnag_52893284   \n",
       "2240  no acute cardiopulmonary findings and no convi...      Shokuja_50802617   \n",
       "2241  no radiographic evidence of acute cardiopulmon...     Perpopul_50364068   \n",
       "2242  left mid lung confluent opacity which could re...  Quescuedunk_51812828   \n",
       "\n",
       "                                   output        label_edema    output_edema  \n",
       "0                                     NaN           No Edema  Not Applicable  \n",
       "1          no definite acute abnormality.           No Edema        No Edema  \n",
       "2                                     NaN  Unspecified Edema  Not Applicable  \n",
       "3          no definite acute abnormality.           No Edema        No Edema  \n",
       "4          no definite acute abnormality.           No Edema        No Edema  \n",
       "...                                   ...                ...             ...  \n",
       "2238                                  NaN  Unspecified Edema  Not Applicable  \n",
       "2239       no definite acute abnormality.           No Edema        No Edema  \n",
       "2240                                  NaN  Unspecified Edema  Not Applicable  \n",
       "2241       no definite acute abnormality.           No Edema        No Edema  \n",
       "2242  findings of pulmonary hypertension.         Mild Edema        No Edema  \n",
       "\n",
       "[2243 rows x 5 columns]"
      ]
     },
     "execution_count": 18,
     "metadata": {},
     "output_type": "execute_result"
    }
   ],
   "source": [
    "edema = pd.read_csv('gpt_edema.csv')\n",
    "edema"
   ]
  },
  {
   "cell_type": "code",
   "execution_count": 19,
   "metadata": {},
   "outputs": [
    {
     "data": {
      "text/plain": [
       "label_edema\n",
       "No Edema             1539\n",
       "Unspecified Edema     377\n",
       "Mild Edema            322\n",
       "Severe Edema            5\n",
       "Name: count, dtype: int64"
      ]
     },
     "execution_count": 19,
     "metadata": {},
     "output_type": "execute_result"
    }
   ],
   "source": [
    "edema['label_edema'].value_counts()"
   ]
  },
  {
   "cell_type": "code",
   "execution_count": 20,
   "metadata": {},
   "outputs": [
    {
     "data": {
      "text/plain": [
       "output_edema\n",
       "No Edema             1213\n",
       "Not Applicable       1012\n",
       "Unspecified Edema      17\n",
       "Mild Edema              1\n",
       "Name: count, dtype: int64"
      ]
     },
     "execution_count": 20,
     "metadata": {},
     "output_type": "execute_result"
    }
   ],
   "source": [
    "edema['output_edema'].value_counts()"
   ]
  },
  {
   "cell_type": "code",
   "execution_count": 21,
   "metadata": {},
   "outputs": [
    {
     "data": {
      "text/plain": [
       "output_edema\n",
       "No Edema             1213\n",
       "NA                   1012\n",
       "Unspecified Edema      17\n",
       "Mild Edema              1\n",
       "Name: count, dtype: int64"
      ]
     },
     "execution_count": 21,
     "metadata": {},
     "output_type": "execute_result"
    }
   ],
   "source": [
    "edema.loc[edema['output_edema'] == 'Not Applicable', 'output_edema'] = 'NA'\n",
    "edema['output_edema'].value_counts()"
   ]
  },
  {
   "cell_type": "code",
   "execution_count": 22,
   "metadata": {},
   "outputs": [
    {
     "data": {
      "text/plain": [
       "label_edema\n",
       "No Edema        1539\n",
       "NA               377\n",
       "Mild Edema       322\n",
       "Severe Edema       5\n",
       "Name: count, dtype: int64"
      ]
     },
     "execution_count": 22,
     "metadata": {},
     "output_type": "execute_result"
    }
   ],
   "source": [
    "edema.loc[edema['label_edema'] == 'Unspecified Edema', 'label_edema'] = 'NA'\n",
    "edema['label_edema'].value_counts()"
   ]
  },
  {
   "cell_type": "code",
   "execution_count": 17,
   "metadata": {},
   "outputs": [
    {
     "name": "stdout",
     "output_type": "stream",
     "text": [
      "Edema accuracy:  0.4587605884975479\n"
     ]
    }
   ],
   "source": [
    "edema_accuracy = (edema['label_edema'] == edema['output_edema']).sum() / edema.shape[0]\n",
    "print('Edema accuracy: ', edema_accuracy)"
   ]
  },
  {
   "cell_type": "markdown",
   "metadata": {},
   "source": [
    "#### Pneumonia"
   ]
  },
  {
   "cell_type": "code",
   "execution_count": 26,
   "metadata": {},
   "outputs": [
    {
     "data": {
      "text/html": [
       "<div>\n",
       "<style scoped>\n",
       "    .dataframe tbody tr th:only-of-type {\n",
       "        vertical-align: middle;\n",
       "    }\n",
       "\n",
       "    .dataframe tbody tr th {\n",
       "        vertical-align: top;\n",
       "    }\n",
       "\n",
       "    .dataframe thead th {\n",
       "        text-align: right;\n",
       "    }\n",
       "</style>\n",
       "<table border=\"1\" class=\"dataframe\">\n",
       "  <thead>\n",
       "    <tr style=\"text-align: right;\">\n",
       "      <th></th>\n",
       "      <th>label</th>\n",
       "      <th>output</th>\n",
       "      <th>label_condition</th>\n",
       "      <th>output_condition</th>\n",
       "    </tr>\n",
       "  </thead>\n",
       "  <tbody>\n",
       "    <tr>\n",
       "      <th>0</th>\n",
       "      <td>iption:    x-ray chest frontal and lateral  cl...</td>\n",
       "      <td>NaN</td>\n",
       "      <td>No</td>\n",
       "      <td>Unknown</td>\n",
       "    </tr>\n",
       "    <tr>\n",
       "      <th>1</th>\n",
       "      <td>no acute findings.</td>\n",
       "      <td>no definite acute abnormality.</td>\n",
       "      <td>No</td>\n",
       "      <td>No</td>\n",
       "    </tr>\n",
       "    <tr>\n",
       "      <th>2</th>\n",
       "      <td>cardiomegaly with moderate interstitial edema.</td>\n",
       "      <td>NaN</td>\n",
       "      <td>Not Specified</td>\n",
       "      <td>Unknown</td>\n",
       "    </tr>\n",
       "    <tr>\n",
       "      <th>3</th>\n",
       "      <td>mild left basilar opacity in setting of decrea...</td>\n",
       "      <td>no definite acute abnormality.</td>\n",
       "      <td>Not Specified</td>\n",
       "      <td>No</td>\n",
       "    </tr>\n",
       "    <tr>\n",
       "      <th>4</th>\n",
       "      <td>no acute cardiopulmonary or osseous abnormality.</td>\n",
       "      <td>no definite acute abnormality.</td>\n",
       "      <td>No</td>\n",
       "      <td>No</td>\n",
       "    </tr>\n",
       "    <tr>\n",
       "      <th>...</th>\n",
       "      <td>...</td>\n",
       "      <td>...</td>\n",
       "      <td>...</td>\n",
       "      <td>...</td>\n",
       "    </tr>\n",
       "    <tr>\n",
       "      <th>2238</th>\n",
       "      <td>enlarged cardiac silhouette with interstitial ...</td>\n",
       "      <td>NaN</td>\n",
       "      <td>Not Specified</td>\n",
       "      <td>Unknown</td>\n",
       "    </tr>\n",
       "    <tr>\n",
       "      <th>2239</th>\n",
       "      <td>no acute cardiopulmonary abnormality. previous...</td>\n",
       "      <td>no definite acute abnormality.</td>\n",
       "      <td>No</td>\n",
       "      <td>No</td>\n",
       "    </tr>\n",
       "    <tr>\n",
       "      <th>2240</th>\n",
       "      <td>no acute cardiopulmonary findings and no convi...</td>\n",
       "      <td>NaN</td>\n",
       "      <td>No</td>\n",
       "      <td>Unknown</td>\n",
       "    </tr>\n",
       "    <tr>\n",
       "      <th>2241</th>\n",
       "      <td>no radiographic evidence of acute cardiopulmon...</td>\n",
       "      <td>no definite acute abnormality.</td>\n",
       "      <td>No</td>\n",
       "      <td>No</td>\n",
       "    </tr>\n",
       "    <tr>\n",
       "      <th>2242</th>\n",
       "      <td>left mid lung confluent opacity which could re...</td>\n",
       "      <td>findings of pulmonary hypertension.</td>\n",
       "      <td>Mild</td>\n",
       "      <td>Not Specified</td>\n",
       "    </tr>\n",
       "  </tbody>\n",
       "</table>\n",
       "<p>2243 rows × 4 columns</p>\n",
       "</div>"
      ],
      "text/plain": [
       "                                                  label  \\\n",
       "0     iption:    x-ray chest frontal and lateral  cl...   \n",
       "1                                    no acute findings.   \n",
       "2        cardiomegaly with moderate interstitial edema.   \n",
       "3     mild left basilar opacity in setting of decrea...   \n",
       "4      no acute cardiopulmonary or osseous abnormality.   \n",
       "...                                                 ...   \n",
       "2238  enlarged cardiac silhouette with interstitial ...   \n",
       "2239  no acute cardiopulmonary abnormality. previous...   \n",
       "2240  no acute cardiopulmonary findings and no convi...   \n",
       "2241  no radiographic evidence of acute cardiopulmon...   \n",
       "2242  left mid lung confluent opacity which could re...   \n",
       "\n",
       "                                   output label_condition output_condition  \n",
       "0                                     NaN              No          Unknown  \n",
       "1          no definite acute abnormality.              No               No  \n",
       "2                                     NaN   Not Specified          Unknown  \n",
       "3          no definite acute abnormality.   Not Specified               No  \n",
       "4          no definite acute abnormality.              No               No  \n",
       "...                                   ...             ...              ...  \n",
       "2238                                  NaN   Not Specified          Unknown  \n",
       "2239       no definite acute abnormality.              No               No  \n",
       "2240                                  NaN              No          Unknown  \n",
       "2241       no definite acute abnormality.              No               No  \n",
       "2242  findings of pulmonary hypertension.            Mild    Not Specified  \n",
       "\n",
       "[2243 rows x 4 columns]"
      ]
     },
     "execution_count": 26,
     "metadata": {},
     "output_type": "execute_result"
    }
   ],
   "source": [
    "pneumonia = pd.read_csv('gpt_pneumonia.csv')\n",
    "pneumonia"
   ]
  },
  {
   "cell_type": "code",
   "execution_count": 29,
   "metadata": {},
   "outputs": [
    {
     "data": {
      "text/plain": [
       "label_condition\n",
       "No               1291\n",
       "Not Specified     880\n",
       "Mild               68\n",
       "Severe              4\n",
       "Name: count, dtype: int64"
      ]
     },
     "execution_count": 29,
     "metadata": {},
     "output_type": "execute_result"
    }
   ],
   "source": [
    "pneumonia['label_condition'].value_counts()"
   ]
  },
  {
   "cell_type": "code",
   "execution_count": 30,
   "metadata": {},
   "outputs": [
    {
     "data": {
      "text/plain": [
       "output_condition\n",
       "Unknown          1012\n",
       "No                704\n",
       "Not Specified     527\n",
       "Name: count, dtype: int64"
      ]
     },
     "execution_count": 30,
     "metadata": {},
     "output_type": "execute_result"
    }
   ],
   "source": [
    "pneumonia['output_condition'].value_counts()"
   ]
  },
  {
   "cell_type": "code",
   "execution_count": 31,
   "metadata": {},
   "outputs": [
    {
     "name": "stdout",
     "output_type": "stream",
     "text": [
      "Pneumonia accuracy:  0.3004904146232724\n"
     ]
    }
   ],
   "source": [
    "pneumonia_accuracy = (pneumonia['label_condition'] == pneumonia['output_condition']).sum() / pneumonia.shape[0]\n",
    "print('Pneumonia accuracy: ', pneumonia_accuracy)"
   ]
  },
  {
   "cell_type": "markdown",
   "metadata": {},
   "source": [
    "#### pneumothorax"
   ]
  },
  {
   "cell_type": "code",
   "execution_count": 50,
   "metadata": {},
   "outputs": [
    {
     "data": {
      "text/plain": [
       "218"
      ]
     },
     "execution_count": 50,
     "metadata": {},
     "output_type": "execute_result"
    }
   ],
   "source": [
    "pneumonia['label'].str.contains('pneumothorax').sum()"
   ]
  },
  {
   "cell_type": "code",
   "execution_count": 35,
   "metadata": {},
   "outputs": [
    {
     "data": {
      "text/html": [
       "<div>\n",
       "<style scoped>\n",
       "    .dataframe tbody tr th:only-of-type {\n",
       "        vertical-align: middle;\n",
       "    }\n",
       "\n",
       "    .dataframe tbody tr th {\n",
       "        vertical-align: top;\n",
       "    }\n",
       "\n",
       "    .dataframe thead th {\n",
       "        text-align: right;\n",
       "    }\n",
       "</style>\n",
       "<table border=\"1\" class=\"dataframe\">\n",
       "  <thead>\n",
       "    <tr style=\"text-align: right;\">\n",
       "      <th></th>\n",
       "      <th>label</th>\n",
       "      <th>output</th>\n",
       "      <th>label_pneumothorax_condition</th>\n",
       "      <th>output_pneumothorax_condition</th>\n",
       "    </tr>\n",
       "  </thead>\n",
       "  <tbody>\n",
       "    <tr>\n",
       "      <th>0</th>\n",
       "      <td>iption:    x-ray chest frontal and lateral  cl...</td>\n",
       "      <td>NaN</td>\n",
       "      <td>Not Specified</td>\n",
       "      <td>Unknown</td>\n",
       "    </tr>\n",
       "    <tr>\n",
       "      <th>1</th>\n",
       "      <td>no acute findings.</td>\n",
       "      <td>no definite acute abnormality.</td>\n",
       "      <td>No</td>\n",
       "      <td>No</td>\n",
       "    </tr>\n",
       "    <tr>\n",
       "      <th>2</th>\n",
       "      <td>cardiomegaly with moderate interstitial edema.</td>\n",
       "      <td>NaN</td>\n",
       "      <td>Not Specified</td>\n",
       "      <td>Unknown</td>\n",
       "    </tr>\n",
       "    <tr>\n",
       "      <th>3</th>\n",
       "      <td>mild left basilar opacity in setting of decrea...</td>\n",
       "      <td>no definite acute abnormality.</td>\n",
       "      <td>Not Specified</td>\n",
       "      <td>No</td>\n",
       "    </tr>\n",
       "    <tr>\n",
       "      <th>4</th>\n",
       "      <td>no acute cardiopulmonary or osseous abnormality.</td>\n",
       "      <td>no definite acute abnormality.</td>\n",
       "      <td>No</td>\n",
       "      <td>No</td>\n",
       "    </tr>\n",
       "    <tr>\n",
       "      <th>...</th>\n",
       "      <td>...</td>\n",
       "      <td>...</td>\n",
       "      <td>...</td>\n",
       "      <td>...</td>\n",
       "    </tr>\n",
       "    <tr>\n",
       "      <th>2238</th>\n",
       "      <td>enlarged cardiac silhouette with interstitial ...</td>\n",
       "      <td>NaN</td>\n",
       "      <td>Not Specified</td>\n",
       "      <td>Unknown</td>\n",
       "    </tr>\n",
       "    <tr>\n",
       "      <th>2239</th>\n",
       "      <td>no acute cardiopulmonary abnormality. previous...</td>\n",
       "      <td>no definite acute abnormality.</td>\n",
       "      <td>No</td>\n",
       "      <td>No</td>\n",
       "    </tr>\n",
       "    <tr>\n",
       "      <th>2240</th>\n",
       "      <td>no acute cardiopulmonary findings and no convi...</td>\n",
       "      <td>NaN</td>\n",
       "      <td>No</td>\n",
       "      <td>Unknown</td>\n",
       "    </tr>\n",
       "    <tr>\n",
       "      <th>2241</th>\n",
       "      <td>no radiographic evidence of acute cardiopulmon...</td>\n",
       "      <td>no definite acute abnormality.</td>\n",
       "      <td>No</td>\n",
       "      <td>No</td>\n",
       "    </tr>\n",
       "    <tr>\n",
       "      <th>2242</th>\n",
       "      <td>left mid lung confluent opacity which could re...</td>\n",
       "      <td>findings of pulmonary hypertension.</td>\n",
       "      <td>Not Specified</td>\n",
       "      <td>Not Specified</td>\n",
       "    </tr>\n",
       "  </tbody>\n",
       "</table>\n",
       "<p>2243 rows × 4 columns</p>\n",
       "</div>"
      ],
      "text/plain": [
       "                                                  label  \\\n",
       "0     iption:    x-ray chest frontal and lateral  cl...   \n",
       "1                                    no acute findings.   \n",
       "2        cardiomegaly with moderate interstitial edema.   \n",
       "3     mild left basilar opacity in setting of decrea...   \n",
       "4      no acute cardiopulmonary or osseous abnormality.   \n",
       "...                                                 ...   \n",
       "2238  enlarged cardiac silhouette with interstitial ...   \n",
       "2239  no acute cardiopulmonary abnormality. previous...   \n",
       "2240  no acute cardiopulmonary findings and no convi...   \n",
       "2241  no radiographic evidence of acute cardiopulmon...   \n",
       "2242  left mid lung confluent opacity which could re...   \n",
       "\n",
       "                                   output label_pneumothorax_condition  \\\n",
       "0                                     NaN                Not Specified   \n",
       "1          no definite acute abnormality.                           No   \n",
       "2                                     NaN                Not Specified   \n",
       "3          no definite acute abnormality.                Not Specified   \n",
       "4          no definite acute abnormality.                           No   \n",
       "...                                   ...                          ...   \n",
       "2238                                  NaN                Not Specified   \n",
       "2239       no definite acute abnormality.                           No   \n",
       "2240                                  NaN                           No   \n",
       "2241       no definite acute abnormality.                           No   \n",
       "2242  findings of pulmonary hypertension.                Not Specified   \n",
       "\n",
       "     output_pneumothorax_condition  \n",
       "0                          Unknown  \n",
       "1                               No  \n",
       "2                          Unknown  \n",
       "3                               No  \n",
       "4                               No  \n",
       "...                            ...  \n",
       "2238                       Unknown  \n",
       "2239                            No  \n",
       "2240                       Unknown  \n",
       "2241                            No  \n",
       "2242                 Not Specified  \n",
       "\n",
       "[2243 rows x 4 columns]"
      ]
     },
     "execution_count": 35,
     "metadata": {},
     "output_type": "execute_result"
    }
   ],
   "source": [
    "pneumothorax = pd.read_csv('gpt_pneumothorax.csv')\n",
    "pneumothorax"
   ]
  },
  {
   "cell_type": "code",
   "execution_count": 36,
   "metadata": {},
   "outputs": [
    {
     "data": {
      "text/plain": [
       "label_pneumothorax_condition\n",
       "No               1242\n",
       "Not Specified     943\n",
       "Mild               55\n",
       "Severe              3\n",
       "Name: count, dtype: int64"
      ]
     },
     "execution_count": 36,
     "metadata": {},
     "output_type": "execute_result"
    }
   ],
   "source": [
    "pneumothorax['label_pneumothorax_condition'].value_counts()"
   ]
  },
  {
   "cell_type": "code",
   "execution_count": 38,
   "metadata": {},
   "outputs": [
    {
     "data": {
      "text/plain": [
       "output_pneumothorax_condition\n",
       "Not Specified    1231\n",
       "No               1012\n",
       "Name: count, dtype: int64"
      ]
     },
     "execution_count": 38,
     "metadata": {},
     "output_type": "execute_result"
    }
   ],
   "source": [
    "pneumothorax.loc[pneumothorax['output_pneumothorax_condition'] == 'Unknown', 'output_pneumothorax_condition'] = 'Not Specified'\n",
    "pneumothorax['output_pneumothorax_condition'].value_counts()"
   ]
  },
  {
   "cell_type": "code",
   "execution_count": 39,
   "metadata": {},
   "outputs": [
    {
     "name": "stdout",
     "output_type": "stream",
     "text": [
      "Pneumothorax accuracy:  0.5158270173874275\n"
     ]
    }
   ],
   "source": [
    "\n",
    "pneumothorax_accuracy = (pneumothorax['label_pneumothorax_condition'] == pneumothorax['output_pneumothorax_condition']).sum() / pneumothorax.shape[0]\n",
    "print('Pneumothorax accuracy: ', pneumothorax_accuracy)"
   ]
  },
  {
   "cell_type": "markdown",
   "metadata": {},
   "source": [
    "##### Main Problems:\n",
    "- Generated responses are too short, commenting on only one disease\n",
    "- Generated responses only mention diseases that the patient has, do not note whether or not the patient has the other diseases or the report simply doesn't comment on those. Also don't note the severity of diseases detected --> need to adjust the prompt to ask for it more specifically"
   ]
  },
  {
   "cell_type": "code",
   "execution_count": null,
   "metadata": {},
   "outputs": [],
   "source": []
  }
 ],
 "metadata": {
  "kernelspec": {
   "display_name": "Python 3",
   "language": "python",
   "name": "python3"
  },
  "language_info": {
   "codemirror_mode": {
    "name": "ipython",
    "version": 3
   },
   "file_extension": ".py",
   "mimetype": "text/x-python",
   "name": "python",
   "nbconvert_exporter": "python",
   "pygments_lexer": "ipython3",
   "version": "3.9.6"
  }
 },
 "nbformat": 4,
 "nbformat_minor": 2
}
